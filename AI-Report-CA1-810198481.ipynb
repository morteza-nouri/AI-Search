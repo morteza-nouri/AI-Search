{
 "cells": [
  {
   "cell_type": "markdown",
   "id": "9e9403b7",
   "metadata": {},
   "source": [
    "# Artificial Intelligence :  Computer Assignment 1  \n",
    "> __Morteza Nouri, 810198481__\n",
    "\n",
    "## Goals:\n",
    "- Learning informed search algorithms (A*)\n",
    "- Learning uninformed search algorithms (BFS, IDS)\n",
    "- How to formulate problems (Abstraction)\n",
    "- Pros and Cons of each algorithm\n",
    "\n",
    "## Description:\n",
    "> In this project, we have a 2D grid that has some characters and rules. the hero of this game (Gandalf) should transfer all of his friends to their specific castles, But there are guards (Orks) that, each have their own territory, and Gandalf must carry out his mission without being arrested. After that, Gandalf should go to his goal home, Gandor. Gandalf only moves left, right, up and down. Our task is to find a way for Gandalf to succeed in her mission.\n",
    "\n"
   ]
  },
  {
   "cell_type": "markdown",
   "id": "a0359323",
   "metadata": {},
   "source": [
    "## Modeling:\n",
    " __States:__ Each state represented by a tuple:  $(currentPosition, crossingFriend, transferedFriends, risk) $ \n",
    " > _currentPosition_: current position of Gandalf --> (x, y). <br>\n",
    " > _crossingFriend_: a friend carried by Gandalf and crosssing --> ith friend. if no one crossing --> -1 <br>\n",
    " > _transferedFriends_: a binary string of lenght friends that shows if ith friend is in his castle or not --> 00010. <br>\n",
    " > _risk_: number of Gandalf appearences in Ork area, if the risk was greater than the rank of an Ork then Gandalf dies.\n",
    " \n",
    "__Initial State:__ $(startPosition, -1, '000..0', 0)$ <br>\n",
    "__Actions:__ moving Left, Right, Up and Down, carring and crossing when Gandalf and friend have same position. <br>\n",
    "__Transition model:__ Gandalf goes left, right, up and down to find a friend then carring him to his castle. If Gandalf is in Ork territory, the number of risks increased based on Ork rank.\n",
    "As soon as Gandalf leaves the territory, risk becaomes zero. <br>\n",
    "__Goal State:__ $(endPosition, -1, '111..1', 0)$ <br>\n",
    "__Action Cost:__ each actions costs 1.\n"
   ]
  },
  {
   "cell_type": "markdown",
   "id": "7b7aa64d",
   "metadata": {},
   "source": [
    "### Reading Data \n",
    "\n",
    "In This part we read test file and based on that we construct the game grid.\n"
   ]
  },
  {
   "cell_type": "code",
   "execution_count": 1,
   "id": "cca1b48a",
   "metadata": {},
   "outputs": [],
   "source": [
    "test = open('sample_testcases/test_02.txt', 'r')\n",
    "\n",
    "lines = []\n",
    "for line in test:\n",
    "    lines.append(line.rstrip('\\n'))\n",
    "\n",
    "\n",
    "ORK = '-' # Ork symbol in grid\n",
    "\n",
    "# getting data to construct grid with n rows and m columns\n",
    "\n",
    "n, m = map(int, lines[0].split())\n",
    "grid = [[0 for i in range(m)] for j in range(n)]\n",
    "\n",
    "# getting start and end position of Gandalf\n",
    "\n",
    "startPos = tuple(map(int, lines[1].split()))\n",
    "endPos = tuple(map(int, lines[2].split()))\n",
    "\n",
    "\n",
    "k, l = map(int, lines[3].split())\n",
    "\n",
    "# getting orks positions\n",
    "\n",
    "orks = []\n",
    "for i in range(k):\n",
    "    ork = tuple(map(int, lines[4 + i].split()))\n",
    "    orks.append(ork)\n",
    "    grid[ork[0]][ork[1]] = ORK\n",
    "\n",
    "# getting friends positions\n",
    "\n",
    "friends = []\n",
    "for i in range(l):\n",
    "    friend = tuple(map(int, lines[4 + k +i].split()))\n",
    "    friends.append(friend)\n",
    "\n",
    "# getting castles positions for each friend.\n",
    "    \n",
    "castles = []\n",
    "for i in range(l):\n",
    "    castle = tuple(map(int, lines[4 + k + l + i].split()))\n",
    "    castles.append(castle)\n",
    "    \n",
    "#determining territory of each ork in grid\n",
    "ownerOrk = dict()\n",
    "for ork in orks:\n",
    "    x, y, rank = ork[0], ork[1], ork[2]\n",
    "    for i in range(max(0, x - rank), min(n - 1, x + rank)  + 1):\n",
    "        for j in range(max(0, y - rank), min(m - 1, y + rank) + 1):\n",
    "            if abs(x - i) + abs(y - j) <= rank and (i,j) != (x, y):\n",
    "                grid[i][j] = rank\n",
    "                ownerOrk[(i, j)] = ork\n"
   ]
  },
  {
   "cell_type": "markdown",
   "id": "375a592a",
   "metadata": {},
   "source": [
    "## Approach 1 - BFS (Breadth First Search):\n"
   ]
  },
  {
   "cell_type": "code",
   "execution_count": 2,
   "id": "32c6426f",
   "metadata": {},
   "outputs": [],
   "source": [
    "#(currentPos, crossingFriend, transferedFriends, risk)\n",
    "\n",
    "startState = (startPos, -1, '0' * len(friends), 0)\n",
    "goalState = (endPos, -1, '1' * len(friends), 0)"
   ]
  },
  {
   "cell_type": "code",
   "execution_count": 3,
   "id": "6ba3cefe",
   "metadata": {},
   "outputs": [],
   "source": [
    "import time\n",
    "    \n",
    "\n",
    "dRow = [-1, 0, 1, 0]\n",
    "dCol = [0, 1, 0, -1]\n",
    "direction = {0 : 'U', 1 : 'R', 2 : 'D', 3 : 'L'}\n",
    "\n",
    "path = []\n",
    "moves = dict()\n",
    "parent = dict()\n",
    "explored = dict()\n",
    "\n",
    "def BFS():\n",
    "    q = []\n",
    "    q.append(startState)\n",
    "    explored[startState] = 1\n",
    "\n",
    "    while len(q):\n",
    "        curState = q.pop(0)\n",
    "        if curState == goalState:\n",
    "            break\n",
    "        \n",
    "        curPos = curState[0]\n",
    "        crossing = curState[1]\n",
    "        transfered = curState[2]\n",
    "        \n",
    "        #In this part Gandalf put friend in his castle.\n",
    "        \n",
    "        if crossing != -1:\n",
    "            if curPos == castles[crossing]:\n",
    "                transfered = transfered[:crossing] + '1' + transfered[crossing + 1:]\n",
    "                crossing = -1\n",
    "        \n",
    "        #In this part Gandalf pick a friend\n",
    "        \n",
    "        for i in range(len(friends)):\n",
    "            if transfered[i] == '1' or crossing == i:\n",
    "                continue; \n",
    "            friendPos = friends[i]\n",
    "            if friendPos == curPos:\n",
    "                crossing = i\n",
    "        \n",
    "        #Gandalf goes left, right, up, down\n",
    "        \n",
    "        for i in range(4):\n",
    "            px, py = curPos[0], curPos[1] \n",
    "            nx = px + dRow[i]\n",
    "            ny = py + dCol[i]\n",
    "            if nx >= 0 and nx <= n-1 and ny >= 0 and ny <= m-1:\n",
    "                curOrk = (-1, -1) if not (px, py) in ownerOrk else ownerOrk[(px, py)]\n",
    "                risk = curState[3]\n",
    "                if risk == 0 and grid[nx][ny]:\n",
    "                    risk += 1\n",
    "                elif risk and (nx, ny) in ownerOrk and ownerOrk[(nx, ny)] == curOrk:\n",
    "                    risk += 1\n",
    "                else:\n",
    "                    risk = 0\n",
    "                if grid[nx][ny] != ORK and risk <= grid[nx][ny]:\n",
    "                    nextState = ((nx, ny), crossing, transfered, risk)\n",
    "                    if not nextState in explored:\n",
    "                        q.append(nextState)\n",
    "                        explored[nextState] = 1\n",
    "                        parent[nextState] = curState\n",
    "                        moves[nextState] = direction[i]\n"
   ]
  },
  {
   "cell_type": "code",
   "execution_count": 4,
   "id": "0f041b89",
   "metadata": {},
   "outputs": [],
   "source": [
    "def constructPath(curState):\n",
    "    if curState == startState:\n",
    "        return\n",
    "    path.append(moves[curState])\n",
    "    constructPath(parent[curState])"
   ]
  },
  {
   "cell_type": "code",
   "execution_count": 5,
   "id": "80690af3",
   "metadata": {},
   "outputs": [
    {
     "name": "stdout",
     "output_type": "stream",
     "text": [
      "Time spent: 11.435508728027344 ms\n",
      "Length of the path: 34\n",
      "R R R R R R R D D D D L L L L D L L L R D D U U R U R R R R D R D D\n",
      "number of explored states: 420\n"
     ]
    }
   ],
   "source": [
    "stime = time.time()\n",
    "BFS()\n",
    "print(f\"Time spent: {(time.time() - stime) * 1000} ms\")\n",
    "constructPath(goalState)\n",
    "print(f\"Length of the path: {len(path)}\")\n",
    "print(*path[::-1])\n",
    "print(f\"number of explored states: {len(explored)}\")"
   ]
  },
  {
   "cell_type": "markdown",
   "id": "8b4ac1a2",
   "metadata": {},
   "source": [
    "### BFS Results:\n",
    "\n",
    "| TestNo | Path Lenght | Explored States | Avg Exec Time (ms) |\n",
    "| :-: | :-: | :-: | :-: |\n",
    "| 1 | 48 | 8475 | 37.460962931 |\n",
    "| 2 | 52 | 1888 | 11.794408162 |\n",
    "| 3 | 34 | 420 | 1.829067866 |\n",
    "| 4 | 66 | 6391 | 32.912572225 |\n",
    "\n",
    "<center> *Average Execution Time is based on running a test 3 times. </center>\n",
    "\n",
    ">__Advantages of BFS:__ <br>\n",
    "> - Complete: It finds a solution if there exists.<br>\n",
    "> - Optimal: If there are various solutions, BFS finds the least costly one.<br>\n",
    "\n",
    ">__Disadvantages of BFS:__<br>\n",
    "> - Memory Constraint: It stores all of the explored states.<br>\n",
    "> - Time Consumption: if solution is far away, it consumes time.<br>\n",
    "> - Cost Constraint: BFS finds the path with the fewest steps, but does not always find the cheapest path if action cost is not 1.\n",
    "\n"
   ]
  },
  {
   "cell_type": "markdown",
   "id": "c7eaf954",
   "metadata": {},
   "source": [
    "## Approach 2 - IDS (Iterative Deepening Search):\n",
    "\n",
    "IDS uses DFS as subroutine and checks for the path of lenght 0, 1, 2, ... in order to get the solution path."
   ]
  },
  {
   "cell_type": "code",
   "execution_count": 6,
   "id": "d6865c32",
   "metadata": {},
   "outputs": [],
   "source": [
    "path = []\n",
    "moves = dict()\n",
    "parent = dict()\n",
    "dist = dict()\n",
    "\n",
    "def DFS(curState, parState, goalState, depth, visited):\n",
    "    \n",
    "    visited.add(curState)\n",
    "    parent[curState] = parState\n",
    "    if curState != parState:\n",
    "        dist[curState] = dist[parState] + 1\n",
    "    \n",
    "    if curState == goalState:\n",
    "        return True\n",
    "    \n",
    "    if depth <= 0:\n",
    "        return False\n",
    "            \n",
    "    \n",
    "    curPos = curState[0]\n",
    "    crossing = curState[1]\n",
    "    transfered = curState[2]\n",
    "\n",
    "    #In this part Gandalf put friend in his castle.\n",
    "    \n",
    "    if crossing != -1:\n",
    "        if curPos == castles[crossing]:\n",
    "            transfered = transfered[:crossing] + '1' + transfered[crossing + 1:]\n",
    "            crossing = -1\n",
    "            \n",
    "    #In this part Gandalf pick a friend\n",
    "    \n",
    "    for i in range(len(friends)):\n",
    "        if transfered[i] == '1' or crossing == i:\n",
    "            continue; \n",
    "        friendPos = friends[i]\n",
    "        if friendPos == curPos:\n",
    "            crossing = i\n",
    "            \n",
    "    #Gandalf goes left, right, up, down        \n",
    "    \n",
    "    for i in range(4):\n",
    "        px, py = curPos[0], curPos[1] \n",
    "        nx = px + dRow[i]\n",
    "        ny = py + dCol[i]\n",
    "        if nx >= 0 and nx <= n-1 and ny >= 0 and ny <= m-1:\n",
    "            curOrk = (-1, -1) if not (px, py) in ownerOrk else ownerOrk[(px, py)]\n",
    "            risk = curState[3]\n",
    "            if risk == 0 and grid[nx][ny]:\n",
    "                risk += 1\n",
    "            elif risk and (nx, ny) in ownerOrk and ownerOrk[(nx, ny)] == curOrk:\n",
    "                risk += 1\n",
    "            else:\n",
    "                risk = 0\n",
    "            if grid[nx][ny] != ORK and risk <= grid[nx][ny]:\n",
    "                nextState = ((nx, ny), crossing, transfered, risk)\n",
    "                if not nextState in visited:\n",
    "                    moves[nextState] = direction[i]\n",
    "                    if DFS(nextState, curState,goalState, depth - 1, visited):\n",
    "                        return True\n",
    "                elif dist[nextState] > dist[curState] + 1:\n",
    "                    moves[nextState] = direction[i]\n",
    "                    if DFS(nextState, curState, goalState, depth - 1, visited):\n",
    "                        return True\n",
    "    return False\n"
   ]
  },
  {
   "cell_type": "code",
   "execution_count": 7,
   "id": "31a9221e",
   "metadata": {},
   "outputs": [],
   "source": [
    "def IDS(startState, goalState, maxDepth):\n",
    "    dist[startState] = 0\n",
    "    for i in range(maxDepth + 1):\n",
    "        visited = set()\n",
    "        if DFS(startState, startState, goalState, i, visited):\n",
    "            return len(visited)\n",
    "    return 0"
   ]
  },
  {
   "cell_type": "code",
   "execution_count": 8,
   "id": "805facc9",
   "metadata": {},
   "outputs": [
    {
     "name": "stdout",
     "output_type": "stream",
     "text": [
      "Time spent: 179.24022674560547 ms\n",
      "Length of the path: 34\n",
      "R R R R R R R D D D D L L L L D L L L R D D U U R U R R R R D R D D\n",
      "number of explored states: 289\n"
     ]
    }
   ],
   "source": [
    "stime = time.time()\n",
    "states = IDS(startState, goalState, 100)\n",
    "print(f\"Time spent: {(time.time() - stime) * 1000} ms\")\n",
    "print(f\"Length of the path: {dist[goalState]}\")\n",
    "constructPath(goalState)\n",
    "print(*path[::-1])\n",
    "print(f\"number of explored states: {states}\")"
   ]
  },
  {
   "cell_type": "markdown",
   "id": "fcc64a4c",
   "metadata": {},
   "source": [
    "### IDS Results:\n",
    "\n",
    "| TestNo | Path Lenght | Explored States | Avg Exec Time (ms) |\n",
    "| :-: | :-: | :-: | :-: |\n",
    "| 1 | 48 | 7846 | 791.612148285 |\n",
    "| 2 | 52 | 1867 | 1711.511691411 |\n",
    "| 3 | 34 | 289 | 96.397558848 |\n",
    "| 4 | 66 | 6329 | 9940.868139267 |\n",
    "\n",
    "<center> *Average Execution Time is based on running a test 3 times. </center>\n",
    "<center> *Important: Explored states in this part shows just states which visited in solution path.In fact, explored states are much more than what we have shown. </center> \n",
    "\n",
    ">__Advantages of IDS:__ <br>\n",
    "> - Complete\n",
    "> - Optimal\n",
    "> - Space Complexity: As we observe in above table, It's obvious that explored states in IDS is smaller than BFS. Actually, IDS inherits optimality of BFS and space complexity of DFS.\n",
    "\n",
    ">__Disadvantages of IDS:__<br>\n",
    "> - Repeatedly time and wasted calculations in each depth before reaching the answer depth.\n",
    "\n"
   ]
  },
  {
   "cell_type": "markdown",
   "id": "385a0891",
   "metadata": {},
   "source": [
    "## Approach 3 - (A*):\n"
   ]
  },
  {
   "cell_type": "markdown",
   "id": "a37423c8",
   "metadata": {},
   "source": [
    "__Heuristic Function:__ we have 3 different heuristic according to the game state: <br>\n",
    "*to calculate heuristic value we use Manhattan Distance*: $ manhattan(src, dest) $\n",
    "> __if all friends have been transferred:__ $ manhattan(GandalfCurrentState, GandalfGoalState) $ <br>\n",
    "> __if Gandalf currently carrying ith friend:__  $ manhattan(friends[i], castles[i]) + manhattan(castles[i], GandalfGoalState) $ <br>\n",
    "> __if Gandalf hasn't picked a friend:__ \n",
    ">> for each remaining friend calculate: $ manhattan(GandalfCurrentState, friends[i]) + manhattan(friends[i], castles[i]) + manhattan(castles[i], GandalfGoalState) $ <br>\n",
    ">> return minimum value of the previous section.\n",
    "\n",
    "$ f(n) = h(n) + g(n)$\n",
    "- $ f(n) $ : The evaluation function which is the estimated total cost of the path through state n to the goal state. <br>\n",
    "- $ g(n) $ : cost so far to reach n <br>\n",
    "- $ h(n) $ : heuristic <br>\n",
    "*_in each step, we expand state with minimum value of $ f(n) $ , for this purpos we store $ f $'s in min heap data structure._\n",
    "\n",
    "__Heuristic admissibility__: Because in each step, Gandalf can move only left, right, up and down, according to definition of manhattan distance, it is obvious that, $ h(n) <= h*(n) $, (where $ h*(n) $ is the real cost to reach goal state)\n",
    "\n",
    "__Heuristic Consistency__: Suppose Gandalf wants to go from A to C, because in each step we can move only left, right, up and down, So $ g(C) = g(A) + 1 $ and by definition of manhattan distance we have $ g(c) + h(c) >= h(A) $\n"
   ]
  },
  {
   "cell_type": "code",
   "execution_count": 9,
   "id": "f1f4f8ff",
   "metadata": {},
   "outputs": [],
   "source": [
    "path = []\n",
    "moves = dict()\n",
    "parent = dict()\n",
    "heap = dict()\n",
    "\n",
    "def manhattan(src, dest):\n",
    "    return (abs(src[0] - dest[0]) + abs(src[1] - dest[1]))   \n",
    "\n",
    "def allFriendsTransfered(transfered):\n",
    "    for c in transfered:\n",
    "        if c == '0':\n",
    "            return False\n",
    "    return True\n",
    "\n",
    "def minHForRemainingFriends(gSrc, gDest, transfered):\n",
    "    minH = 0\n",
    "    for i in range(len(friends)):\n",
    "        if transfered[i] == '0':\n",
    "            h = manhattan(gSrc, friends[i]) + manhattan(friends[i], castles[i]) + manhattan(castles[i], gDest)\n",
    "            minH = h if h > minH else minH\n",
    "    return minH    \n",
    "\n",
    "def getHeuristic(gSrc, gDest, crossing, transfered, alpha):\n",
    "    if allFriendsTransfered(transfered):\n",
    "        return manhattan(gSrc, gDest) * alpha\n",
    "    if crossing != -1:\n",
    "        return (manhattan(friends[crossing], castles[crossing]) + manhattan(castles[crossing], gDest)) * alpha\n",
    "    else:\n",
    "        return minHForRemainingFriends(gSrc, gDest, transfered) * alpha"
   ]
  },
  {
   "cell_type": "code",
   "execution_count": 10,
   "id": "6ed1057e",
   "metadata": {},
   "outputs": [],
   "source": [
    "from heapq import heappush, heappop\n",
    "\n",
    "def Astar(alpha):\n",
    "    openset = []\n",
    "    closedset = set()\n",
    "    startF = 0 + getHeuristic(startState[0], goalState[0], -1, '0' * len(friends), alpha)\n",
    "    heappush(openset, (startF, startState))\n",
    "    heap[(startF, startState)] = 1\n",
    "    \n",
    "    while openset:\n",
    "        frontier = heappop(openset)\n",
    "        del heap[frontier]\n",
    "        \n",
    "        if frontier[1] == goalState:\n",
    "            return len(closedset)\n",
    "\n",
    "        closedset.add(frontier[1])\n",
    "        \n",
    "        curF = frontier[0]          \n",
    "        curPos = frontier[1][0]\n",
    "        crossing = frontier[1][1]\n",
    "        transfered = frontier[1][2]\n",
    "\n",
    "        #put a friend\n",
    "        if crossing != -1:\n",
    "            if curPos == castles[crossing]:\n",
    "                transfered = transfered[:crossing] + '1' + transfered[crossing + 1:]\n",
    "                crossing = -1\n",
    "\n",
    "        # pick a friend\n",
    "        for i in range(len(friends)):\n",
    "            if transfered[i] == '1' or crossing != -1:\n",
    "                continue; \n",
    "            friendPos = friends[i]\n",
    "            if friendPos == curPos:\n",
    "                crossing = i\n",
    "        \n",
    "        \n",
    "        for i in range(4):\n",
    "            px, py = curPos[0], curPos[1]\n",
    "            nx = px + dRow[i]\n",
    "            ny = py + dCol[i]\n",
    "            if nx >= 0 and nx <= n-1 and ny >= 0 and ny <= m-1:\n",
    "                curOrk = (-1, -1) if not (px, py) in ownerOrk else ownerOrk[(px, py)]\n",
    "                risk = frontier[1][3]\n",
    "                if risk == 0 and grid[nx][ny]:\n",
    "                    risk += 1\n",
    "                elif risk and (nx, ny) in ownerOrk and ownerOrk[(nx, ny)] == curOrk:\n",
    "                    risk += 1\n",
    "                else:\n",
    "                    risk = 0\n",
    "                if grid[nx][ny] != ORK and risk <= grid[nx][ny]:\n",
    "                    nextState = ((nx, ny), crossing, transfered, risk)\n",
    "                    curG = curF - getHeuristic(curPos, goalState[0], crossing, transfered, alpha)\n",
    "                    nextF = curG + 1 + getHeuristic(nextState[0], goalState[0], crossing, transfered, alpha)\n",
    "                    if (not nextState in closedset) and (not (nextF, nextState) in heap):\n",
    "                        parent[nextState] = frontier[1]\n",
    "                        moves[nextState] = direction[i]\n",
    "                        heappush(openset, (nextF, nextState))\n",
    "                        heap[(nextF, nextState)] = 1"
   ]
  },
  {
   "cell_type": "code",
   "execution_count": 11,
   "id": "a6481e95",
   "metadata": {},
   "outputs": [
    {
     "name": "stdout",
     "output_type": "stream",
     "text": [
      "Time spent: 22.339820861816406 ms\n",
      "Length of the path: 34\n",
      "R R R R R R R L L L L D D D D L D L L R D D U U R U R R R R D R D D\n",
      "number of explored states: 207\n"
     ]
    }
   ],
   "source": [
    "stime = time.time()\n",
    "states = Astar(alpha=1)\n",
    "print(f\"Time spent: {(time.time() - stime) * 1000} ms\")\n",
    "constructPath(goalState)\n",
    "print(f\"Length of the path: {len(path)}\")\n",
    "print(*path[::-1])\n",
    "print(f\"number of explored states: {states}\")"
   ]
  },
  {
   "cell_type": "markdown",
   "id": "634c32c3",
   "metadata": {},
   "source": [
    "### A* Results:\n",
    "| TestNo | Path Lenght | Explored States | Avg Exec Time (ms) |\n",
    "| :-: | :-: | :-: | :-: |\n",
    "| 1 | 48 | 297 | 9.778181712 |\n",
    "| 2 | 52 | 1187 | 20.514329274 |\n",
    "| 3 | 34 | 207 | 2.953767776 |\n",
    "| 4 | 66 | 3246 | 58.925946554 |\n",
    "\n",
    "<center> *Average Execution Time is based on running a test 3 times. </center>\n",
    "\n",
    ">__Advantages of A*:__ <br>\n",
    "> - Optimal: because our heuristic in consistence it finds the best solution.\n",
    "> - Fast: as we saw in results, A* explores less states than BFS and IDS.\n",
    "\n",
    ">__DisAdvantages of A*:__ <br>\n",
    "> - It's Complete if the branching factor is finite and evey action has fixed cost.(like our problem).\n",
    "> - It's Speed and Optimality highly depends on choosen heuristic."
   ]
  },
  {
   "cell_type": "markdown",
   "id": "9687522e",
   "metadata": {},
   "source": [
    "## Approach 4 - (Weighted A*)\n",
    "\n",
    "In this method we inflate our heuristic by $ a > 1 $ and then perform A* search as usual.\n",
    "\n",
    "### $ a = 2 $"
   ]
  },
  {
   "cell_type": "code",
   "execution_count": 12,
   "id": "e47f9a8c",
   "metadata": {},
   "outputs": [
    {
     "name": "stdout",
     "output_type": "stream",
     "text": [
      "Time spent: 9.900808334350586 ms\n",
      "Length of the path: 68\n",
      "R R R R R R R L L L L D D D D L D L L R D D U U R U R R R R D R D D R R R R R R R L L L L D D D D L D L L R D D U U R U R R R R D R D D\n",
      "number of explored states: 164\n"
     ]
    }
   ],
   "source": [
    "stime = time.time()\n",
    "states = Astar(alpha=2)\n",
    "print(f\"Time spent: {(time.time() - stime) * 1000} ms\")\n",
    "constructPath(goalState)\n",
    "print(f\"Length of the path: {len(path)}\")\n",
    "print(*path[::-1])\n",
    "print(f\"number of explored states: {states}\")\n"
   ]
  },
  {
   "cell_type": "markdown",
   "id": "5f0bc29c",
   "metadata": {},
   "source": [
    "#### Results:\n",
    "| TestNo | Path Lenght | Explored States | Avg Exec Time (ms) |\n",
    "| :-: | :-: | :-: | :-: |\n",
    "| 1 | 96 | 67 | 2.550363541 |\n",
    "| 2 | 104 | 373 | 6.790240606|\n",
    "| 3 | 68 | 164 | 2.7538675476 |\n",
    "| 4 | 142 | 2431 | 39.925946554 |"
   ]
  },
  {
   "cell_type": "markdown",
   "id": "8353ba6a",
   "metadata": {},
   "source": [
    "### $ a = 5 $"
   ]
  },
  {
   "cell_type": "code",
   "execution_count": 13,
   "id": "a71938dc",
   "metadata": {},
   "outputs": [
    {
     "name": "stdout",
     "output_type": "stream",
     "text": [
      "Time spent: 3.9954185485839844 ms\n",
      "Length of the path: 102\n",
      "R R R R R R R L L L L D D D D L D L L R D D U U R U R R R R D R D D R R R R R R R L L L L D D D D L D L L R D D U U R U R R R R D R D D R R R R R R R L L L L D D D D L D L L R D D U U R U R R R R D R D D\n",
      "number of explored states: 116\n"
     ]
    }
   ],
   "source": [
    "stime = time.time()\n",
    "states = Astar(alpha=5)\n",
    "print(f\"Time spent: {(time.time() - stime) * 1000} ms\")\n",
    "constructPath(goalState)\n",
    "print(f\"Length of the path: {len(path)}\")\n",
    "print(*path[::-1])\n",
    "print(f\"number of explored states: {states}\")"
   ]
  },
  {
   "cell_type": "markdown",
   "id": "fb72fa50",
   "metadata": {},
   "source": [
    "#### Results: \n",
    "| TestNo | Path Lenght | Explored States | Avg Exec Time (ms) |\n",
    "| :-: | :-: | :-: | :-: |\n",
    "| 1 | 144 | 63 | 2.550363541 |\n",
    "| 2 | 156 | 262 | 6.790240606|\n",
    "| 3 | 102 | 116 | 1.7538675476 |\n",
    "| 4 | 210 | 1762 | 42.925946554 |"
   ]
  },
  {
   "cell_type": "markdown",
   "id": "22c4d895",
   "metadata": {},
   "source": [
    "### Weighted A* Results:\n",
    "> __Advantages of Weighted A*:__ <br>\n",
    "> - Complete <br>\n",
    "> - By increasing the weight, less states explored, So it is fast.<br>\n",
    "\n",
    "> __Disadvantages of Weighted A*:__ <br>\n",
    "> - Optimaly is lost and heuristic is not consistent anymore."
   ]
  }
 ],
 "metadata": {
  "kernelspec": {
   "display_name": "Python 3 (ipykernel)",
   "language": "python",
   "name": "python3"
  },
  "language_info": {
   "codemirror_mode": {
    "name": "ipython",
    "version": 3
   },
   "file_extension": ".py",
   "mimetype": "text/x-python",
   "name": "python",
   "nbconvert_exporter": "python",
   "pygments_lexer": "ipython3",
   "version": "3.7.5"
  }
 },
 "nbformat": 4,
 "nbformat_minor": 5
}
